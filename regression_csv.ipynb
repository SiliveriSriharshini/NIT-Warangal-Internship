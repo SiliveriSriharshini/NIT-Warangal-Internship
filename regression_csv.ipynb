{
 "cells": [
  {
   "cell_type": "code",
   "execution_count": 1,
   "id": "f4ae5faf",
   "metadata": {},
   "outputs": [],
   "source": [
    "from scipy.io import arff\n",
    "import numpy as np\n",
    "import pandas as pd"
   ]
  },
  {
   "cell_type": "code",
   "execution_count": 2,
   "id": "708a1432",
   "metadata": {},
   "outputs": [
    {
     "data": {
      "text/html": [
       "<div>\n",
       "<style scoped>\n",
       "    .dataframe tbody tr th:only-of-type {\n",
       "        vertical-align: middle;\n",
       "    }\n",
       "\n",
       "    .dataframe tbody tr th {\n",
       "        vertical-align: top;\n",
       "    }\n",
       "\n",
       "    .dataframe thead th {\n",
       "        text-align: right;\n",
       "    }\n",
       "</style>\n",
       "<table border=\"1\" class=\"dataframe\">\n",
       "  <thead>\n",
       "    <tr style=\"text-align: right;\">\n",
       "      <th></th>\n",
       "      <th>Input</th>\n",
       "      <th>Output</th>\n",
       "      <th>Inquiry</th>\n",
       "      <th>File</th>\n",
       "      <th>FPAdj</th>\n",
       "      <th>RawFPcounts</th>\n",
       "      <th>AdjFP</th>\n",
       "      <th>Effort</th>\n",
       "    </tr>\n",
       "  </thead>\n",
       "  <tbody>\n",
       "    <tr>\n",
       "      <th>0</th>\n",
       "      <td>25.0</td>\n",
       "      <td>150.0</td>\n",
       "      <td>75.0</td>\n",
       "      <td>60.0</td>\n",
       "      <td>1.00</td>\n",
       "      <td>1750.00</td>\n",
       "      <td>1750.0</td>\n",
       "      <td>102.4</td>\n",
       "    </tr>\n",
       "    <tr>\n",
       "      <th>1</th>\n",
       "      <td>193.0</td>\n",
       "      <td>98.0</td>\n",
       "      <td>70.0</td>\n",
       "      <td>36.0</td>\n",
       "      <td>1.00</td>\n",
       "      <td>1902.00</td>\n",
       "      <td>1902.0</td>\n",
       "      <td>105.2</td>\n",
       "    </tr>\n",
       "    <tr>\n",
       "      <th>2</th>\n",
       "      <td>70.0</td>\n",
       "      <td>27.0</td>\n",
       "      <td>0.0</td>\n",
       "      <td>12.0</td>\n",
       "      <td>0.80</td>\n",
       "      <td>535.00</td>\n",
       "      <td>428.0</td>\n",
       "      <td>11.1</td>\n",
       "    </tr>\n",
       "    <tr>\n",
       "      <th>3</th>\n",
       "      <td>40.0</td>\n",
       "      <td>60.0</td>\n",
       "      <td>20.0</td>\n",
       "      <td>12.0</td>\n",
       "      <td>1.15</td>\n",
       "      <td>660.00</td>\n",
       "      <td>759.0</td>\n",
       "      <td>21.1</td>\n",
       "    </tr>\n",
       "    <tr>\n",
       "      <th>4</th>\n",
       "      <td>10.0</td>\n",
       "      <td>69.0</td>\n",
       "      <td>1.0</td>\n",
       "      <td>9.0</td>\n",
       "      <td>0.90</td>\n",
       "      <td>478.89</td>\n",
       "      <td>431.0</td>\n",
       "      <td>28.8</td>\n",
       "    </tr>\n",
       "    <tr>\n",
       "      <th>5</th>\n",
       "      <td>13.0</td>\n",
       "      <td>19.0</td>\n",
       "      <td>0.0</td>\n",
       "      <td>23.0</td>\n",
       "      <td>0.75</td>\n",
       "      <td>377.33</td>\n",
       "      <td>283.0</td>\n",
       "      <td>10.0</td>\n",
       "    </tr>\n",
       "    <tr>\n",
       "      <th>6</th>\n",
       "      <td>34.0</td>\n",
       "      <td>14.0</td>\n",
       "      <td>0.0</td>\n",
       "      <td>5.0</td>\n",
       "      <td>0.80</td>\n",
       "      <td>256.25</td>\n",
       "      <td>205.0</td>\n",
       "      <td>8.0</td>\n",
       "    </tr>\n",
       "    <tr>\n",
       "      <th>7</th>\n",
       "      <td>17.0</td>\n",
       "      <td>17.0</td>\n",
       "      <td>15.0</td>\n",
       "      <td>5.0</td>\n",
       "      <td>1.10</td>\n",
       "      <td>262.73</td>\n",
       "      <td>289.0</td>\n",
       "      <td>4.9</td>\n",
       "    </tr>\n",
       "    <tr>\n",
       "      <th>8</th>\n",
       "      <td>45.0</td>\n",
       "      <td>64.0</td>\n",
       "      <td>14.0</td>\n",
       "      <td>16.0</td>\n",
       "      <td>0.95</td>\n",
       "      <td>715.79</td>\n",
       "      <td>680.0</td>\n",
       "      <td>12.9</td>\n",
       "    </tr>\n",
       "    <tr>\n",
       "      <th>9</th>\n",
       "      <td>40.0</td>\n",
       "      <td>60.0</td>\n",
       "      <td>20.0</td>\n",
       "      <td>15.0</td>\n",
       "      <td>1.15</td>\n",
       "      <td>690.43</td>\n",
       "      <td>794.0</td>\n",
       "      <td>19.0</td>\n",
       "    </tr>\n",
       "    <tr>\n",
       "      <th>10</th>\n",
       "      <td>41.0</td>\n",
       "      <td>27.0</td>\n",
       "      <td>29.0</td>\n",
       "      <td>5.0</td>\n",
       "      <td>1.10</td>\n",
       "      <td>465.45</td>\n",
       "      <td>512.0</td>\n",
       "      <td>10.8</td>\n",
       "    </tr>\n",
       "    <tr>\n",
       "      <th>11</th>\n",
       "      <td>33.0</td>\n",
       "      <td>17.0</td>\n",
       "      <td>8.0</td>\n",
       "      <td>5.0</td>\n",
       "      <td>0.75</td>\n",
       "      <td>298.67</td>\n",
       "      <td>224.0</td>\n",
       "      <td>2.9</td>\n",
       "    </tr>\n",
       "    <tr>\n",
       "      <th>12</th>\n",
       "      <td>28.0</td>\n",
       "      <td>41.0</td>\n",
       "      <td>16.0</td>\n",
       "      <td>11.0</td>\n",
       "      <td>0.85</td>\n",
       "      <td>490.59</td>\n",
       "      <td>417.0</td>\n",
       "      <td>7.5</td>\n",
       "    </tr>\n",
       "    <tr>\n",
       "      <th>13</th>\n",
       "      <td>43.0</td>\n",
       "      <td>40.0</td>\n",
       "      <td>20.0</td>\n",
       "      <td>35.0</td>\n",
       "      <td>0.85</td>\n",
       "      <td>802.35</td>\n",
       "      <td>682.0</td>\n",
       "      <td>12.0</td>\n",
       "    </tr>\n",
       "    <tr>\n",
       "      <th>14</th>\n",
       "      <td>7.0</td>\n",
       "      <td>12.0</td>\n",
       "      <td>13.0</td>\n",
       "      <td>8.0</td>\n",
       "      <td>0.95</td>\n",
       "      <td>220.00</td>\n",
       "      <td>209.0</td>\n",
       "      <td>4.1</td>\n",
       "    </tr>\n",
       "    <tr>\n",
       "      <th>15</th>\n",
       "      <td>28.0</td>\n",
       "      <td>38.0</td>\n",
       "      <td>24.0</td>\n",
       "      <td>9.0</td>\n",
       "      <td>1.05</td>\n",
       "      <td>487.62</td>\n",
       "      <td>512.0</td>\n",
       "      <td>15.8</td>\n",
       "    </tr>\n",
       "    <tr>\n",
       "      <th>16</th>\n",
       "      <td>42.0</td>\n",
       "      <td>57.0</td>\n",
       "      <td>12.0</td>\n",
       "      <td>5.0</td>\n",
       "      <td>1.10</td>\n",
       "      <td>550.91</td>\n",
       "      <td>606.0</td>\n",
       "      <td>18.3</td>\n",
       "    </tr>\n",
       "    <tr>\n",
       "      <th>17</th>\n",
       "      <td>27.0</td>\n",
       "      <td>20.0</td>\n",
       "      <td>24.0</td>\n",
       "      <td>6.0</td>\n",
       "      <td>1.10</td>\n",
       "      <td>363.64</td>\n",
       "      <td>400.0</td>\n",
       "      <td>8.9</td>\n",
       "    </tr>\n",
       "    <tr>\n",
       "      <th>18</th>\n",
       "      <td>48.0</td>\n",
       "      <td>66.0</td>\n",
       "      <td>13.0</td>\n",
       "      <td>50.0</td>\n",
       "      <td>1.15</td>\n",
       "      <td>1073.91</td>\n",
       "      <td>1235.0</td>\n",
       "      <td>38.1</td>\n",
       "    </tr>\n",
       "    <tr>\n",
       "      <th>19</th>\n",
       "      <td>69.0</td>\n",
       "      <td>112.0</td>\n",
       "      <td>21.0</td>\n",
       "      <td>39.0</td>\n",
       "      <td>1.20</td>\n",
       "      <td>1310.00</td>\n",
       "      <td>1572.0</td>\n",
       "      <td>61.2</td>\n",
       "    </tr>\n",
       "    <tr>\n",
       "      <th>20</th>\n",
       "      <td>25.0</td>\n",
       "      <td>28.0</td>\n",
       "      <td>4.0</td>\n",
       "      <td>22.0</td>\n",
       "      <td>1.05</td>\n",
       "      <td>476.19</td>\n",
       "      <td>500.0</td>\n",
       "      <td>3.6</td>\n",
       "    </tr>\n",
       "    <tr>\n",
       "      <th>21</th>\n",
       "      <td>61.0</td>\n",
       "      <td>68.0</td>\n",
       "      <td>0.0</td>\n",
       "      <td>11.0</td>\n",
       "      <td>1.00</td>\n",
       "      <td>694.00</td>\n",
       "      <td>694.0</td>\n",
       "      <td>11.8</td>\n",
       "    </tr>\n",
       "    <tr>\n",
       "      <th>22</th>\n",
       "      <td>15.0</td>\n",
       "      <td>15.0</td>\n",
       "      <td>6.0</td>\n",
       "      <td>3.0</td>\n",
       "      <td>1.05</td>\n",
       "      <td>189.52</td>\n",
       "      <td>199.0</td>\n",
       "      <td>0.5</td>\n",
       "    </tr>\n",
       "    <tr>\n",
       "      <th>23</th>\n",
       "      <td>12.0</td>\n",
       "      <td>15.0</td>\n",
       "      <td>0.0</td>\n",
       "      <td>15.0</td>\n",
       "      <td>0.95</td>\n",
       "      <td>273.68</td>\n",
       "      <td>260.0</td>\n",
       "      <td>6.1</td>\n",
       "    </tr>\n",
       "  </tbody>\n",
       "</table>\n",
       "</div>"
      ],
      "text/plain": [
       "    Input  Output  Inquiry  File  FPAdj  RawFPcounts   AdjFP  Effort\n",
       "0    25.0   150.0     75.0  60.0   1.00      1750.00  1750.0   102.4\n",
       "1   193.0    98.0     70.0  36.0   1.00      1902.00  1902.0   105.2\n",
       "2    70.0    27.0      0.0  12.0   0.80       535.00   428.0    11.1\n",
       "3    40.0    60.0     20.0  12.0   1.15       660.00   759.0    21.1\n",
       "4    10.0    69.0      1.0   9.0   0.90       478.89   431.0    28.8\n",
       "5    13.0    19.0      0.0  23.0   0.75       377.33   283.0    10.0\n",
       "6    34.0    14.0      0.0   5.0   0.80       256.25   205.0     8.0\n",
       "7    17.0    17.0     15.0   5.0   1.10       262.73   289.0     4.9\n",
       "8    45.0    64.0     14.0  16.0   0.95       715.79   680.0    12.9\n",
       "9    40.0    60.0     20.0  15.0   1.15       690.43   794.0    19.0\n",
       "10   41.0    27.0     29.0   5.0   1.10       465.45   512.0    10.8\n",
       "11   33.0    17.0      8.0   5.0   0.75       298.67   224.0     2.9\n",
       "12   28.0    41.0     16.0  11.0   0.85       490.59   417.0     7.5\n",
       "13   43.0    40.0     20.0  35.0   0.85       802.35   682.0    12.0\n",
       "14    7.0    12.0     13.0   8.0   0.95       220.00   209.0     4.1\n",
       "15   28.0    38.0     24.0   9.0   1.05       487.62   512.0    15.8\n",
       "16   42.0    57.0     12.0   5.0   1.10       550.91   606.0    18.3\n",
       "17   27.0    20.0     24.0   6.0   1.10       363.64   400.0     8.9\n",
       "18   48.0    66.0     13.0  50.0   1.15      1073.91  1235.0    38.1\n",
       "19   69.0   112.0     21.0  39.0   1.20      1310.00  1572.0    61.2\n",
       "20   25.0    28.0      4.0  22.0   1.05       476.19   500.0     3.6\n",
       "21   61.0    68.0      0.0  11.0   1.00       694.00   694.0    11.8\n",
       "22   15.0    15.0      6.0   3.0   1.05       189.52   199.0     0.5\n",
       "23   12.0    15.0      0.0  15.0   0.95       273.68   260.0     6.1"
      ]
     },
     "execution_count": 2,
     "metadata": {},
     "output_type": "execute_result"
    }
   ],
   "source": [
    "#load arff file\n",
    "data=arff.loadarff('albrecht.arff')\n",
    "df = pd.DataFrame(data[0])\n",
    "df"
   ]
  },
  {
   "cell_type": "code",
   "execution_count": 3,
   "id": "8b5c56ed",
   "metadata": {},
   "outputs": [],
   "source": [
    "x = df.drop('Effort',axis=1)\n",
    "y=df['Effort']"
   ]
  },
  {
   "cell_type": "code",
   "execution_count": 4,
   "id": "2e61c9b0",
   "metadata": {},
   "outputs": [
    {
     "data": {
      "text/plain": [
       "((19, 7), (5, 7), (19,), (5,))"
      ]
     },
     "execution_count": 4,
     "metadata": {},
     "output_type": "execute_result"
    }
   ],
   "source": [
    "from sklearn.model_selection import train_test_split\n",
    "x_train,x_test,y_train,y_test=train_test_split(x,y,test_size=0.2,random_state=42)\n",
    "x_train.shape,x_test.shape,y_train.shape,y_test.shape"
   ]
  },
  {
   "cell_type": "code",
   "execution_count": 5,
   "id": "3199e366",
   "metadata": {},
   "outputs": [],
   "source": [
    "from sklearn.preprocessing import StandardScaler\n",
    "scaler=StandardScaler()\n",
    "x_train=scaler.fit_transform(x_train)\n",
    "x_test=scaler.transform(x_test)"
   ]
  },
  {
   "cell_type": "markdown",
   "id": "865da1c4",
   "metadata": {},
   "source": [
    "# LinearRegression"
   ]
  },
  {
   "cell_type": "code",
   "execution_count": 6,
   "id": "7ad15b68",
   "metadata": {},
   "outputs": [
    {
     "data": {
      "text/plain": [
       "LinearRegression()"
      ]
     },
     "execution_count": 6,
     "metadata": {},
     "output_type": "execute_result"
    }
   ],
   "source": [
    "from sklearn.linear_model import LinearRegression\n",
    "regressor=LinearRegression()\n",
    "regressor.fit(x_train,y_train)"
   ]
  },
  {
   "cell_type": "code",
   "execution_count": 7,
   "id": "87860e1c",
   "metadata": {},
   "outputs": [
    {
     "name": "stdout",
     "output_type": "stream",
     "text": [
      "intercept: 18.442105263157814\n",
      "slope: [-429.25221365 -377.14821747 -165.86820226 -292.69199407  -11.44748357\n",
      " 1043.048543     50.48713753]\n"
     ]
    }
   ],
   "source": [
    "print('intercept:',regressor.intercept_)\n",
    "print('slope:',regressor.coef_)"
   ]
  },
  {
   "cell_type": "code",
   "execution_count": 8,
   "id": "bad22c63",
   "metadata": {},
   "outputs": [
    {
     "data": {
      "text/plain": [
       "(array([24.0234246 , 17.59389012, 86.09936026, 29.99421347, 15.57552499]),\n",
       " 8      12.9\n",
       " 16     18.3\n",
       " 0     102.4\n",
       " 18     38.1\n",
       " 11      2.9\n",
       " Name: Effort, dtype: float64)"
      ]
     },
     "execution_count": 8,
     "metadata": {},
     "output_type": "execute_result"
    }
   ],
   "source": [
    "y_preds=regressor.predict(x_test)\n",
    "y_preds,y_test"
   ]
  },
  {
   "cell_type": "code",
   "execution_count": 9,
   "id": "6620d550",
   "metadata": {},
   "outputs": [
    {
     "name": "stdout",
     "output_type": "stream",
     "text": [
      "pred 1.0\n",
      "r2: 0.9029436106870561\n",
      "mae: 9.782297146570889\n",
      "mse: 123.26254616877604\n",
      "rmse: 11.102366692231708\n"
     ]
    }
   ],
   "source": [
    "from sklearn import metrics\n",
    "from sklearn.metrics import r2_score\n",
    "print(\"pred\",(np.abs(y_test - y_preds) <= 2 * metrics.mean_absolute_error(y_test,y_preds)).mean())\n",
    "print(\"r2:\",r2_score(y_test, y_preds, multioutput='variance_weighted'))\n",
    "print(\"mae:\",metrics.mean_absolute_error(y_test,y_preds))\n",
    "print(\"mse:\",metrics.mean_squared_error(y_test,y_preds))\n",
    "print(\"rmse:\",np.sqrt(metrics.mean_squared_error(y_test,y_preds)))"
   ]
  },
  {
   "cell_type": "code",
   "execution_count": 10,
   "id": "163f0161",
   "metadata": {},
   "outputs": [
    {
     "name": "stdout",
     "output_type": "stream",
     "text": [
      "PRED: 0.0%\n"
     ]
    }
   ],
   "source": [
    "# Calculate the absolute difference between predicted and actual values\n",
    "abs_diff = abs(y_test - y_preds)\n",
    "\n",
    "# Count the number of predictions within the threshold of 0.25\n",
    "within_threshold = abs_diff[abs_diff < 0.25].count()\n",
    "\n",
    "# Calculate the PRED metric\n",
    "PRED = (within_threshold / len(y_preds)) * 100\n",
    "\n",
    "print(f\"PRED: {PRED}%\")\n"
   ]
  },
  {
   "cell_type": "markdown",
   "id": "a7e9913f",
   "metadata": {},
   "source": [
    "# RandomForestRegression"
   ]
  },
  {
   "cell_type": "code",
   "execution_count": 11,
   "id": "2ccdcc76",
   "metadata": {},
   "outputs": [
    {
     "data": {
      "text/plain": [
       "0.849622300492846"
      ]
     },
     "execution_count": 11,
     "metadata": {},
     "output_type": "execute_result"
    }
   ],
   "source": [
    "from sklearn.ensemble import RandomForestRegressor\n",
    "RFregressor=RandomForestRegressor()\n",
    "RFregressor.fit(x_train,y_train)\n",
    "RFregressor.score(x_test,y_test)"
   ]
  },
  {
   "cell_type": "code",
   "execution_count": 12,
   "id": "1fa44009",
   "metadata": {},
   "outputs": [
    {
     "data": {
      "text/plain": [
       "(array([16.61 , 16.911, 75.685, 52.292,  7.81 ]),\n",
       " 8      12.9\n",
       " 16     18.3\n",
       " 0     102.4\n",
       " 18     38.1\n",
       " 11      2.9\n",
       " Name: Effort, dtype: float64)"
      ]
     },
     "execution_count": 12,
     "metadata": {},
     "output_type": "execute_result"
    }
   ],
   "source": [
    "y_predrf = RFregressor.predict(x_test)\n",
    "y_predrf,y_test"
   ]
  },
  {
   "cell_type": "code",
   "execution_count": 48,
   "id": "cabbb6da",
   "metadata": {},
   "outputs": [
    {
     "name": "stdout",
     "output_type": "stream",
     "text": [
      "pred: 0.6666666666666666\n",
      "r^2: 0.34251249070599926\n",
      "maerf: 59.9161333333334\n",
      "mserf: 5448.407587600012\n",
      "rmserf: 73.81332933556115\n"
     ]
    }
   ],
   "source": [
    "from sklearn import metrics\n",
    "print('pred:',(np.abs(y_test - y_predrf) <= 2 * metrics.mean_absolute_error(y_test,y_predrf)).mean())\n",
    "print('r^2:',r2_score(y_test, y_predrf, multioutput='variance_weighted'))\n",
    "print(\"maerf:\",metrics.mean_absolute_error(y_test,y_predrf))\n",
    "print(\"mserf:\",metrics.mean_squared_error(y_test,y_predrf))\n",
    "print(\"rmserf:\",np.sqrt(metrics.mean_squared_error(y_test,y_predrf)))"
   ]
  },
  {
   "cell_type": "code",
   "execution_count": 40,
   "id": "1f09de55",
   "metadata": {},
   "outputs": [
    {
     "name": "stdout",
     "output_type": "stream",
     "text": [
      "PRED: 0.0%\n"
     ]
    }
   ],
   "source": [
    "# Calculate the absolute difference between predicted and actual values\n",
    "abs_diff = abs(y_test - y_predrf)\n",
    "\n",
    "# Count the number of predictions within the threshold of 0.25\n",
    "within_threshold = abs_diff[abs_diff < 0.25].count()\n",
    "\n",
    "# Calculate the PRED metric\n",
    "PRED = (within_threshold / len(y_predrf)) * 100\n",
    "\n",
    "print(f\"PRED: {PRED}%\")\n"
   ]
  },
  {
   "cell_type": "markdown",
   "id": "50ea095d",
   "metadata": {},
   "source": [
    "# Ridge"
   ]
  },
  {
   "cell_type": "code",
   "execution_count": 14,
   "id": "24be320a",
   "metadata": {},
   "outputs": [
    {
     "data": {
      "text/plain": [
       "0.9251370155775103"
      ]
     },
     "execution_count": 14,
     "metadata": {},
     "output_type": "execute_result"
    }
   ],
   "source": [
    "from sklearn.linear_model import Ridge\n",
    "ridge=Ridge()\n",
    "ridge.fit(x_train,y_train)\n",
    "ridge.score(x_test,y_test)"
   ]
  },
  {
   "cell_type": "code",
   "execution_count": 15,
   "id": "3c9cb89f",
   "metadata": {},
   "outputs": [
    {
     "data": {
      "text/plain": [
       "(array([27.17344333, 19.1867688 , 87.27324154, 33.83844928,  7.78736791]),\n",
       " 8      12.9\n",
       " 16     18.3\n",
       " 0     102.4\n",
       " 18     38.1\n",
       " 11      2.9\n",
       " Name: Effort, dtype: float64)"
      ]
     },
     "execution_count": 15,
     "metadata": {},
     "output_type": "execute_result"
    }
   ],
   "source": [
    "y_predr=ridge.predict(x_test)\n",
    "y_predr,y_test"
   ]
  },
  {
   "cell_type": "code",
   "execution_count": 49,
   "id": "4a580bef",
   "metadata": {},
   "outputs": [
    {
     "name": "stdout",
     "output_type": "stream",
     "text": [
      "pred: 1.0\n",
      "r2 -2.8350533572646244\n",
      "maer: 159.23852715881148\n",
      "mser: 31779.97074500794\n",
      "rmser: 178.2693769131646\n"
     ]
    }
   ],
   "source": [
    "from sklearn import metrics\n",
    "from sklearn.metrics import r2_score\n",
    "print(\"pred:\",(np.abs(y_test - y_predr) <= 2 * metrics.mean_absolute_error(y_test,y_predr)).mean())\n",
    "print(\"r2\",r2_score(y_test, y_predr, multioutput='variance_weighted'))\n",
    "print(\"maer:\",metrics.mean_absolute_error(y_test,y_predr))\n",
    "print(\"mser:\",metrics.mean_squared_error(y_test,y_predr))\n",
    "print(\"rmser:\",np.sqrt(metrics.mean_squared_error(y_test,y_predr)))"
   ]
  },
  {
   "cell_type": "code",
   "execution_count": 41,
   "id": "15465c06",
   "metadata": {},
   "outputs": [
    {
     "name": "stdout",
     "output_type": "stream",
     "text": [
      "PRED: 0.0%\n"
     ]
    }
   ],
   "source": [
    "# Calculate the absolute difference between predicted and actual values\n",
    "abs_diff = abs(y_test - y_predr)\n",
    "\n",
    "# Count the number of predictions within the threshold of 0.25\n",
    "within_threshold = abs_diff[abs_diff < 0.25].count()\n",
    "\n",
    "# Calculate the PRED metric\n",
    "PRED = (within_threshold / len(y_predr)) * 100\n",
    "\n",
    "print(f\"PRED: {PRED}%\")\n"
   ]
  },
  {
   "cell_type": "markdown",
   "id": "47d023fb",
   "metadata": {},
   "source": [
    "# SVM"
   ]
  },
  {
   "cell_type": "code",
   "execution_count": 17,
   "id": "091b3066",
   "metadata": {},
   "outputs": [
    {
     "data": {
      "text/plain": [
       "0.28946796618066817"
      ]
     },
     "execution_count": 17,
     "metadata": {},
     "output_type": "execute_result"
    }
   ],
   "source": [
    "from sklearn.svm import LinearSVR\n",
    "svr=LinearSVR(max_iter=1000)\n",
    "svr.fit(x_train,y_train)\n",
    "svr.score(x_test,y_test)"
   ]
  },
  {
   "cell_type": "code",
   "execution_count": 18,
   "id": "b88216ac",
   "metadata": {},
   "outputs": [
    {
     "data": {
      "text/plain": [
       "(array([12.69176881, 11.26437357, 38.35786581, 19.11043246,  2.29131797]),\n",
       " 8      12.9\n",
       " 16     18.3\n",
       " 0     102.4\n",
       " 18     38.1\n",
       " 11      2.9\n",
       " Name: Effort, dtype: float64)"
      ]
     },
     "execution_count": 18,
     "metadata": {},
     "output_type": "execute_result"
    }
   ],
   "source": [
    "y_predsvr=svr.predict(x_test)\n",
    "y_predsvr,y_test"
   ]
  },
  {
   "cell_type": "code",
   "execution_count": 50,
   "id": "039c51a7",
   "metadata": {
    "scrolled": true
   },
   "outputs": [
    {
     "name": "stdout",
     "output_type": "stream",
     "text": [
      "pred: 1.0\n",
      "r2 -4.110782085047033\n",
      "maerf: 184.5666666666667\n",
      "mserf: 42351.56333333333\n",
      "rmserf: 205.79495458667915\n"
     ]
    }
   ],
   "source": [
    "from sklearn import metrics\n",
    "from sklearn.metrics import r2_score\n",
    "print(\"pred:\",(np.abs(y_test - y_predsvr) <= 2 * metrics.mean_absolute_error(y_test,y_predsvr)).mean())\n",
    "print(\"r2\",r2_score(y_test, y_predsvr, multioutput='variance_weighted'))\n",
    "print(\"maerf:\",metrics.mean_absolute_error(y_test,y_predsvr))\n",
    "print(\"mserf:\",metrics.mean_squared_error(y_test,y_predsvr))\n",
    "print(\"rmserf:\",np.sqrt(metrics.mean_squared_error(y_test,y_predsvr)))"
   ]
  },
  {
   "cell_type": "code",
   "execution_count": 42,
   "id": "fa05e2a2",
   "metadata": {},
   "outputs": [
    {
     "name": "stdout",
     "output_type": "stream",
     "text": [
      "PRED: 0.0%\n"
     ]
    }
   ],
   "source": [
    "# Calculate the absolute difference between predicted and actual values\n",
    "abs_diff = abs(y_test - y_predsvr)\n",
    "\n",
    "# Count the number of predictions within the threshold of 0.25\n",
    "within_threshold = abs_diff[abs_diff < 0.25].count()\n",
    "\n",
    "# Calculate the PRED metric\n",
    "PRED = (within_threshold / len(y_predsvr)) * 100\n",
    "\n",
    "print(f\"PRED: {PRED}%\")\n"
   ]
  },
  {
   "cell_type": "markdown",
   "id": "49b1e658",
   "metadata": {},
   "source": [
    "# 2nd Dataset"
   ]
  },
  {
   "cell_type": "code",
   "execution_count": 20,
   "id": "135fe458",
   "metadata": {
    "scrolled": false
   },
   "outputs": [
    {
     "data": {
      "text/html": [
       "<div>\n",
       "<style scoped>\n",
       "    .dataframe tbody tr th:only-of-type {\n",
       "        vertical-align: middle;\n",
       "    }\n",
       "\n",
       "    .dataframe tbody tr th {\n",
       "        vertical-align: top;\n",
       "    }\n",
       "\n",
       "    .dataframe thead th {\n",
       "        text-align: right;\n",
       "    }\n",
       "</style>\n",
       "<table border=\"1\" class=\"dataframe\">\n",
       "  <thead>\n",
       "    <tr style=\"text-align: right;\">\n",
       "      <th></th>\n",
       "      <th>ID</th>\n",
       "      <th>Language</th>\n",
       "      <th>Hardware</th>\n",
       "      <th>Duration</th>\n",
       "      <th>KSLOC</th>\n",
       "      <th>AdjFP</th>\n",
       "      <th>RAWFP</th>\n",
       "      <th>EffortMM</th>\n",
       "    </tr>\n",
       "  </thead>\n",
       "  <tbody>\n",
       "    <tr>\n",
       "      <th>0</th>\n",
       "      <td>1.0</td>\n",
       "      <td>1.0</td>\n",
       "      <td>1.0</td>\n",
       "      <td>17.0</td>\n",
       "      <td>253.6</td>\n",
       "      <td>1217.1</td>\n",
       "      <td>1010.0</td>\n",
       "      <td>287.00</td>\n",
       "    </tr>\n",
       "    <tr>\n",
       "      <th>1</th>\n",
       "      <td>2.0</td>\n",
       "      <td>1.0</td>\n",
       "      <td>2.0</td>\n",
       "      <td>7.0</td>\n",
       "      <td>40.5</td>\n",
       "      <td>507.3</td>\n",
       "      <td>457.0</td>\n",
       "      <td>82.50</td>\n",
       "    </tr>\n",
       "    <tr>\n",
       "      <th>2</th>\n",
       "      <td>3.0</td>\n",
       "      <td>1.0</td>\n",
       "      <td>3.0</td>\n",
       "      <td>15.0</td>\n",
       "      <td>450.0</td>\n",
       "      <td>2306.8</td>\n",
       "      <td>2284.0</td>\n",
       "      <td>1107.31</td>\n",
       "    </tr>\n",
       "    <tr>\n",
       "      <th>3</th>\n",
       "      <td>4.0</td>\n",
       "      <td>1.0</td>\n",
       "      <td>1.0</td>\n",
       "      <td>18.0</td>\n",
       "      <td>214.4</td>\n",
       "      <td>788.5</td>\n",
       "      <td>881.0</td>\n",
       "      <td>86.90</td>\n",
       "    </tr>\n",
       "    <tr>\n",
       "      <th>4</th>\n",
       "      <td>5.0</td>\n",
       "      <td>1.0</td>\n",
       "      <td>2.0</td>\n",
       "      <td>13.0</td>\n",
       "      <td>449.9</td>\n",
       "      <td>1337.6</td>\n",
       "      <td>1583.0</td>\n",
       "      <td>336.30</td>\n",
       "    </tr>\n",
       "    <tr>\n",
       "      <th>5</th>\n",
       "      <td>6.0</td>\n",
       "      <td>1.0</td>\n",
       "      <td>4.0</td>\n",
       "      <td>5.0</td>\n",
       "      <td>50.0</td>\n",
       "      <td>421.3</td>\n",
       "      <td>411.0</td>\n",
       "      <td>84.00</td>\n",
       "    </tr>\n",
       "    <tr>\n",
       "      <th>6</th>\n",
       "      <td>7.0</td>\n",
       "      <td>2.0</td>\n",
       "      <td>4.0</td>\n",
       "      <td>5.0</td>\n",
       "      <td>43.0</td>\n",
       "      <td>99.9</td>\n",
       "      <td>97.0</td>\n",
       "      <td>23.20</td>\n",
       "    </tr>\n",
       "    <tr>\n",
       "      <th>7</th>\n",
       "      <td>8.0</td>\n",
       "      <td>1.0</td>\n",
       "      <td>2.0</td>\n",
       "      <td>11.0</td>\n",
       "      <td>200.0</td>\n",
       "      <td>993.0</td>\n",
       "      <td>998.0</td>\n",
       "      <td>130.30</td>\n",
       "    </tr>\n",
       "    <tr>\n",
       "      <th>8</th>\n",
       "      <td>9.0</td>\n",
       "      <td>1.0</td>\n",
       "      <td>1.0</td>\n",
       "      <td>14.0</td>\n",
       "      <td>289.0</td>\n",
       "      <td>1592.9</td>\n",
       "      <td>1554.0</td>\n",
       "      <td>116.00</td>\n",
       "    </tr>\n",
       "    <tr>\n",
       "      <th>9</th>\n",
       "      <td>10.0</td>\n",
       "      <td>1.0</td>\n",
       "      <td>1.0</td>\n",
       "      <td>5.0</td>\n",
       "      <td>39.0</td>\n",
       "      <td>240.0</td>\n",
       "      <td>250.0</td>\n",
       "      <td>72.00</td>\n",
       "    </tr>\n",
       "    <tr>\n",
       "      <th>10</th>\n",
       "      <td>11.0</td>\n",
       "      <td>1.0</td>\n",
       "      <td>1.0</td>\n",
       "      <td>13.0</td>\n",
       "      <td>254.2</td>\n",
       "      <td>1611.0</td>\n",
       "      <td>1603.0</td>\n",
       "      <td>258.70</td>\n",
       "    </tr>\n",
       "    <tr>\n",
       "      <th>11</th>\n",
       "      <td>12.0</td>\n",
       "      <td>1.0</td>\n",
       "      <td>5.0</td>\n",
       "      <td>31.0</td>\n",
       "      <td>128.6</td>\n",
       "      <td>789.0</td>\n",
       "      <td>724.0</td>\n",
       "      <td>230.70</td>\n",
       "    </tr>\n",
       "    <tr>\n",
       "      <th>12</th>\n",
       "      <td>13.0</td>\n",
       "      <td>1.0</td>\n",
       "      <td>6.0</td>\n",
       "      <td>20.0</td>\n",
       "      <td>161.4</td>\n",
       "      <td>690.9</td>\n",
       "      <td>705.0</td>\n",
       "      <td>157.00</td>\n",
       "    </tr>\n",
       "    <tr>\n",
       "      <th>13</th>\n",
       "      <td>14.0</td>\n",
       "      <td>1.0</td>\n",
       "      <td>1.0</td>\n",
       "      <td>26.0</td>\n",
       "      <td>164.8</td>\n",
       "      <td>1347.5</td>\n",
       "      <td>1375.0</td>\n",
       "      <td>246.90</td>\n",
       "    </tr>\n",
       "    <tr>\n",
       "      <th>14</th>\n",
       "      <td>15.0</td>\n",
       "      <td>3.0</td>\n",
       "      <td>1.0</td>\n",
       "      <td>14.0</td>\n",
       "      <td>60.2</td>\n",
       "      <td>1044.3</td>\n",
       "      <td>976.0</td>\n",
       "      <td>69.90</td>\n",
       "    </tr>\n",
       "  </tbody>\n",
       "</table>\n",
       "</div>"
      ],
      "text/plain": [
       "      ID  Language  Hardware  Duration  KSLOC   AdjFP   RAWFP  EffortMM\n",
       "0    1.0       1.0       1.0      17.0  253.6  1217.1  1010.0    287.00\n",
       "1    2.0       1.0       2.0       7.0   40.5   507.3   457.0     82.50\n",
       "2    3.0       1.0       3.0      15.0  450.0  2306.8  2284.0   1107.31\n",
       "3    4.0       1.0       1.0      18.0  214.4   788.5   881.0     86.90\n",
       "4    5.0       1.0       2.0      13.0  449.9  1337.6  1583.0    336.30\n",
       "5    6.0       1.0       4.0       5.0   50.0   421.3   411.0     84.00\n",
       "6    7.0       2.0       4.0       5.0   43.0    99.9    97.0     23.20\n",
       "7    8.0       1.0       2.0      11.0  200.0   993.0   998.0    130.30\n",
       "8    9.0       1.0       1.0      14.0  289.0  1592.9  1554.0    116.00\n",
       "9   10.0       1.0       1.0       5.0   39.0   240.0   250.0     72.00\n",
       "10  11.0       1.0       1.0      13.0  254.2  1611.0  1603.0    258.70\n",
       "11  12.0       1.0       5.0      31.0  128.6   789.0   724.0    230.70\n",
       "12  13.0       1.0       6.0      20.0  161.4   690.9   705.0    157.00\n",
       "13  14.0       1.0       1.0      26.0  164.8  1347.5  1375.0    246.90\n",
       "14  15.0       3.0       1.0      14.0   60.2  1044.3   976.0     69.90"
      ]
     },
     "execution_count": 20,
     "metadata": {},
     "output_type": "execute_result"
    }
   ],
   "source": [
    "#load arff file\n",
    "data=arff.loadarff('kemerer.arff')\n",
    "dff = pd.DataFrame(data[0])\n",
    "dff"
   ]
  },
  {
   "cell_type": "code",
   "execution_count": 21,
   "id": "d455a7c1",
   "metadata": {},
   "outputs": [
    {
     "data": {
      "text/html": [
       "<div>\n",
       "<style scoped>\n",
       "    .dataframe tbody tr th:only-of-type {\n",
       "        vertical-align: middle;\n",
       "    }\n",
       "\n",
       "    .dataframe tbody tr th {\n",
       "        vertical-align: top;\n",
       "    }\n",
       "\n",
       "    .dataframe thead th {\n",
       "        text-align: right;\n",
       "    }\n",
       "</style>\n",
       "<table border=\"1\" class=\"dataframe\">\n",
       "  <thead>\n",
       "    <tr style=\"text-align: right;\">\n",
       "      <th></th>\n",
       "      <th>Language</th>\n",
       "      <th>Hardware</th>\n",
       "      <th>Duration</th>\n",
       "      <th>KSLOC</th>\n",
       "      <th>AdjFP</th>\n",
       "      <th>RAWFP</th>\n",
       "      <th>EffortMM</th>\n",
       "    </tr>\n",
       "  </thead>\n",
       "  <tbody>\n",
       "    <tr>\n",
       "      <th>0</th>\n",
       "      <td>1.0</td>\n",
       "      <td>1.0</td>\n",
       "      <td>17.0</td>\n",
       "      <td>253.6</td>\n",
       "      <td>1217.1</td>\n",
       "      <td>1010.0</td>\n",
       "      <td>287.00</td>\n",
       "    </tr>\n",
       "    <tr>\n",
       "      <th>1</th>\n",
       "      <td>1.0</td>\n",
       "      <td>2.0</td>\n",
       "      <td>7.0</td>\n",
       "      <td>40.5</td>\n",
       "      <td>507.3</td>\n",
       "      <td>457.0</td>\n",
       "      <td>82.50</td>\n",
       "    </tr>\n",
       "    <tr>\n",
       "      <th>2</th>\n",
       "      <td>1.0</td>\n",
       "      <td>3.0</td>\n",
       "      <td>15.0</td>\n",
       "      <td>450.0</td>\n",
       "      <td>2306.8</td>\n",
       "      <td>2284.0</td>\n",
       "      <td>1107.31</td>\n",
       "    </tr>\n",
       "    <tr>\n",
       "      <th>3</th>\n",
       "      <td>1.0</td>\n",
       "      <td>1.0</td>\n",
       "      <td>18.0</td>\n",
       "      <td>214.4</td>\n",
       "      <td>788.5</td>\n",
       "      <td>881.0</td>\n",
       "      <td>86.90</td>\n",
       "    </tr>\n",
       "    <tr>\n",
       "      <th>4</th>\n",
       "      <td>1.0</td>\n",
       "      <td>2.0</td>\n",
       "      <td>13.0</td>\n",
       "      <td>449.9</td>\n",
       "      <td>1337.6</td>\n",
       "      <td>1583.0</td>\n",
       "      <td>336.30</td>\n",
       "    </tr>\n",
       "    <tr>\n",
       "      <th>5</th>\n",
       "      <td>1.0</td>\n",
       "      <td>4.0</td>\n",
       "      <td>5.0</td>\n",
       "      <td>50.0</td>\n",
       "      <td>421.3</td>\n",
       "      <td>411.0</td>\n",
       "      <td>84.00</td>\n",
       "    </tr>\n",
       "    <tr>\n",
       "      <th>6</th>\n",
       "      <td>2.0</td>\n",
       "      <td>4.0</td>\n",
       "      <td>5.0</td>\n",
       "      <td>43.0</td>\n",
       "      <td>99.9</td>\n",
       "      <td>97.0</td>\n",
       "      <td>23.20</td>\n",
       "    </tr>\n",
       "    <tr>\n",
       "      <th>7</th>\n",
       "      <td>1.0</td>\n",
       "      <td>2.0</td>\n",
       "      <td>11.0</td>\n",
       "      <td>200.0</td>\n",
       "      <td>993.0</td>\n",
       "      <td>998.0</td>\n",
       "      <td>130.30</td>\n",
       "    </tr>\n",
       "    <tr>\n",
       "      <th>8</th>\n",
       "      <td>1.0</td>\n",
       "      <td>1.0</td>\n",
       "      <td>14.0</td>\n",
       "      <td>289.0</td>\n",
       "      <td>1592.9</td>\n",
       "      <td>1554.0</td>\n",
       "      <td>116.00</td>\n",
       "    </tr>\n",
       "    <tr>\n",
       "      <th>9</th>\n",
       "      <td>1.0</td>\n",
       "      <td>1.0</td>\n",
       "      <td>5.0</td>\n",
       "      <td>39.0</td>\n",
       "      <td>240.0</td>\n",
       "      <td>250.0</td>\n",
       "      <td>72.00</td>\n",
       "    </tr>\n",
       "    <tr>\n",
       "      <th>10</th>\n",
       "      <td>1.0</td>\n",
       "      <td>1.0</td>\n",
       "      <td>13.0</td>\n",
       "      <td>254.2</td>\n",
       "      <td>1611.0</td>\n",
       "      <td>1603.0</td>\n",
       "      <td>258.70</td>\n",
       "    </tr>\n",
       "    <tr>\n",
       "      <th>11</th>\n",
       "      <td>1.0</td>\n",
       "      <td>5.0</td>\n",
       "      <td>31.0</td>\n",
       "      <td>128.6</td>\n",
       "      <td>789.0</td>\n",
       "      <td>724.0</td>\n",
       "      <td>230.70</td>\n",
       "    </tr>\n",
       "    <tr>\n",
       "      <th>12</th>\n",
       "      <td>1.0</td>\n",
       "      <td>6.0</td>\n",
       "      <td>20.0</td>\n",
       "      <td>161.4</td>\n",
       "      <td>690.9</td>\n",
       "      <td>705.0</td>\n",
       "      <td>157.00</td>\n",
       "    </tr>\n",
       "    <tr>\n",
       "      <th>13</th>\n",
       "      <td>1.0</td>\n",
       "      <td>1.0</td>\n",
       "      <td>26.0</td>\n",
       "      <td>164.8</td>\n",
       "      <td>1347.5</td>\n",
       "      <td>1375.0</td>\n",
       "      <td>246.90</td>\n",
       "    </tr>\n",
       "    <tr>\n",
       "      <th>14</th>\n",
       "      <td>3.0</td>\n",
       "      <td>1.0</td>\n",
       "      <td>14.0</td>\n",
       "      <td>60.2</td>\n",
       "      <td>1044.3</td>\n",
       "      <td>976.0</td>\n",
       "      <td>69.90</td>\n",
       "    </tr>\n",
       "  </tbody>\n",
       "</table>\n",
       "</div>"
      ],
      "text/plain": [
       "    Language  Hardware  Duration  KSLOC   AdjFP   RAWFP  EffortMM\n",
       "0        1.0       1.0      17.0  253.6  1217.1  1010.0    287.00\n",
       "1        1.0       2.0       7.0   40.5   507.3   457.0     82.50\n",
       "2        1.0       3.0      15.0  450.0  2306.8  2284.0   1107.31\n",
       "3        1.0       1.0      18.0  214.4   788.5   881.0     86.90\n",
       "4        1.0       2.0      13.0  449.9  1337.6  1583.0    336.30\n",
       "5        1.0       4.0       5.0   50.0   421.3   411.0     84.00\n",
       "6        2.0       4.0       5.0   43.0    99.9    97.0     23.20\n",
       "7        1.0       2.0      11.0  200.0   993.0   998.0    130.30\n",
       "8        1.0       1.0      14.0  289.0  1592.9  1554.0    116.00\n",
       "9        1.0       1.0       5.0   39.0   240.0   250.0     72.00\n",
       "10       1.0       1.0      13.0  254.2  1611.0  1603.0    258.70\n",
       "11       1.0       5.0      31.0  128.6   789.0   724.0    230.70\n",
       "12       1.0       6.0      20.0  161.4   690.9   705.0    157.00\n",
       "13       1.0       1.0      26.0  164.8  1347.5  1375.0    246.90\n",
       "14       3.0       1.0      14.0   60.2  1044.3   976.0     69.90"
      ]
     },
     "execution_count": 21,
     "metadata": {},
     "output_type": "execute_result"
    }
   ],
   "source": [
    "dff.drop('ID', axis=1, inplace=True)\n",
    "dff"
   ]
  },
  {
   "cell_type": "code",
   "execution_count": 22,
   "id": "8f73f4ac",
   "metadata": {},
   "outputs": [
    {
     "data": {
      "text/plain": [
       "(15, 7)"
      ]
     },
     "execution_count": 22,
     "metadata": {},
     "output_type": "execute_result"
    }
   ],
   "source": [
    "dff.shape"
   ]
  },
  {
   "cell_type": "code",
   "execution_count": 23,
   "id": "fd4a8e69",
   "metadata": {},
   "outputs": [],
   "source": [
    "x=dff.drop('EffortMM',axis=1)\n",
    "y=dff['EffortMM']"
   ]
  },
  {
   "cell_type": "code",
   "execution_count": 24,
   "id": "2b393e41",
   "metadata": {},
   "outputs": [
    {
     "data": {
      "text/plain": [
       "((12, 6), (3, 6), (12,), (3,))"
      ]
     },
     "execution_count": 24,
     "metadata": {},
     "output_type": "execute_result"
    }
   ],
   "source": [
    "from sklearn.model_selection import train_test_split\n",
    "x_train,x_test,y_train,y_test=train_test_split(x,y,test_size=0.2,random_state=42)\n",
    "x_train.shape,x_test.shape,y_train.shape,y_test.shape"
   ]
  },
  {
   "cell_type": "code",
   "execution_count": 25,
   "id": "88a43ac2",
   "metadata": {},
   "outputs": [],
   "source": [
    "from sklearn.preprocessing import StandardScaler\n",
    "scaler=StandardScaler()\n",
    "x_train=scaler.fit_transform(x_train)\n",
    "x_test=scaler.transform(x_test)"
   ]
  },
  {
   "cell_type": "markdown",
   "id": "aa287440",
   "metadata": {},
   "source": [
    "# LinearRegression"
   ]
  },
  {
   "cell_type": "code",
   "execution_count": 26,
   "id": "f0af3823",
   "metadata": {},
   "outputs": [
    {
     "data": {
      "text/plain": [
       "LinearRegression()"
      ]
     },
     "execution_count": 26,
     "metadata": {},
     "output_type": "execute_result"
    }
   ],
   "source": [
    "from sklearn.linear_model import LinearRegression\n",
    "regressor=LinearRegression()\n",
    "regressor.fit(x_train,y_train)"
   ]
  },
  {
   "cell_type": "code",
   "execution_count": 27,
   "id": "5200774c",
   "metadata": {},
   "outputs": [
    {
     "name": "stdout",
     "output_type": "stream",
     "text": [
      "intercept: 224.91750000000002\n",
      "slope: [  4.67064048 132.86518059 -52.27710863 -37.35539941  45.67017066\n",
      " 284.34393227]\n"
     ]
    }
   ],
   "source": [
    "print('intercept:',regressor.intercept_)\n",
    "print('slope:',regressor.coef_)"
   ]
  },
  {
   "cell_type": "code",
   "execution_count": 28,
   "id": "6293ed38",
   "metadata": {},
   "outputs": [
    {
     "data": {
      "text/plain": [
       "(array([-231.18733778,  125.49158483,   41.72700896]),\n",
       " 9      72.0\n",
       " 11    230.7\n",
       " 0     287.0\n",
       " Name: EffortMM, dtype: float64)"
      ]
     },
     "execution_count": 28,
     "metadata": {},
     "output_type": "execute_result"
    }
   ],
   "source": [
    "y_predsm=regressor.predict(x_test)\n",
    "y_predsm,y_test"
   ]
  },
  {
   "cell_type": "code",
   "execution_count": 29,
   "id": "dea13eb7",
   "metadata": {},
   "outputs": [
    {
     "name": "stdout",
     "output_type": "stream",
     "text": [
      "pred: 1.0\n",
      "r2 -5.56272651918603\n",
      "mae: 217.88958132888158\n",
      "mse: 54383.404181885715\n",
      "rmse: 233.20249608845467\n"
     ]
    }
   ],
   "source": [
    "from sklearn import metrics\n",
    "from sklearn.metrics import r2_score\n",
    "print(\"pred:\",(np.abs(y_test - y_predsm) <= 2 * metrics.mean_absolute_error(y_test,y_predsm)).mean())\n",
    "print(\"r2\",r2_score(y_test, y_predsm, multioutput='variance_weighted'))\n",
    "print(\"mae:\",metrics.mean_absolute_error(y_test,y_predsm))\n",
    "print(\"mse:\",metrics.mean_squared_error(y_test,y_predsm))\n",
    "print(\"rmse:\",np.sqrt(metrics.mean_squared_error(y_test,y_predsm)))"
   ]
  },
  {
   "cell_type": "code",
   "execution_count": 44,
   "id": "a4653115",
   "metadata": {},
   "outputs": [
    {
     "name": "stdout",
     "output_type": "stream",
     "text": [
      "PRED: 0.0%\n"
     ]
    }
   ],
   "source": [
    "# Calculate the absolute difference between predicted and actual values\n",
    "abs_diff = abs(y_test - y_predsm)\n",
    "\n",
    "# Count the number of predictions within the threshold of 0.25\n",
    "within_threshold = abs_diff[abs_diff < 0.25].count()\n",
    "\n",
    "# Calculate the PRED metric\n",
    "PRED = (within_threshold / len(y_predsm)) * 100\n",
    "\n",
    "print(f\"PRED: {PRED}%\")\n"
   ]
  },
  {
   "cell_type": "markdown",
   "id": "33af3ad8",
   "metadata": {},
   "source": [
    "# RandomForestRegression"
   ]
  },
  {
   "cell_type": "code",
   "execution_count": 30,
   "id": "469bdc81",
   "metadata": {},
   "outputs": [
    {
     "data": {
      "text/plain": [
       "0.3425124907059992"
      ]
     },
     "execution_count": 30,
     "metadata": {},
     "output_type": "execute_result"
    }
   ],
   "source": [
    "from sklearn.ensemble import RandomForestRegressor\n",
    "RFregressor=RandomForestRegressor()\n",
    "RFregressor.fit(x_train,y_train)\n",
    "RFregressor.score(x_test,y_test)"
   ]
  },
  {
   "cell_type": "code",
   "execution_count": 31,
   "id": "6c8d8536",
   "metadata": {},
   "outputs": [
    {
     "data": {
      "text/plain": [
       "(array([ 51.079 , 191.8724, 167.0002]),\n",
       " 9      72.0\n",
       " 11    230.7\n",
       " 0     287.0\n",
       " Name: EffortMM, dtype: float64)"
      ]
     },
     "execution_count": 31,
     "metadata": {},
     "output_type": "execute_result"
    }
   ],
   "source": [
    "y_predrf=RFregressor.predict(x_test)\n",
    "y_predrf,y_test"
   ]
  },
  {
   "cell_type": "code",
   "execution_count": 32,
   "id": "dc6a0c73",
   "metadata": {},
   "outputs": [
    {
     "name": "stdout",
     "output_type": "stream",
     "text": [
      "pred: 0.6666666666666666\n",
      "r2 0.34251249070599926\n",
      "maerf: 59.9161333333334\n",
      "mserf: 5448.407587600012\n",
      "rmserf: 73.81332933556115\n"
     ]
    }
   ],
   "source": [
    "from sklearn import metrics\n",
    "from sklearn.metrics import r2_score\n",
    "print(\"pred:\",(np.abs(y_test - y_predrf) <= 2 * (metrics.mean_absolute_error(y_test,y_predrf))).mean())\n",
    "print(\"r2\",r2_score(y_test, y_predrf, multioutput='variance_weighted'))\n",
    "print(\"maerf:\",metrics.mean_absolute_error(y_test,y_predrf))\n",
    "print(\"mserf:\",metrics.mean_squared_error(y_test,y_predrf))\n",
    "print(\"rmserf:\",np.sqrt(metrics.mean_squared_error(y_test,y_predrf)))"
   ]
  },
  {
   "cell_type": "code",
   "execution_count": 45,
   "id": "5832272b",
   "metadata": {},
   "outputs": [
    {
     "name": "stdout",
     "output_type": "stream",
     "text": [
      "PRED: 0.0%\n"
     ]
    }
   ],
   "source": [
    "# Calculate the absolute difference between predicted and actual values\n",
    "abs_diff = abs(y_test - y_predrf)\n",
    "\n",
    "# Count the number of predictions within the threshold of 0.25\n",
    "within_threshold = abs_diff[abs_diff < 0.25].count()\n",
    "\n",
    "# Calculate the PRED metric\n",
    "PRED = (within_threshold / len(y_predrf)) * 100\n",
    "\n",
    "print(f\"PRED: {PRED}%\")\n"
   ]
  },
  {
   "cell_type": "markdown",
   "id": "afac81fd",
   "metadata": {},
   "source": [
    "# Ridge"
   ]
  },
  {
   "cell_type": "code",
   "execution_count": 33,
   "id": "40037ad6",
   "metadata": {},
   "outputs": [
    {
     "data": {
      "text/plain": [
       "-2.8350533572646244"
      ]
     },
     "execution_count": 33,
     "metadata": {},
     "output_type": "execute_result"
    }
   ],
   "source": [
    "from sklearn.linear_model import Ridge\n",
    "ridge=Ridge()\n",
    "ridge.fit(x_train,y_train)\n",
    "ridge.score(x_test,y_test)"
   ]
  },
  {
   "cell_type": "code",
   "execution_count": 34,
   "id": "c281663c",
   "metadata": {},
   "outputs": [
    {
     "data": {
      "text/plain": [
       "(array([-193.04333607,  159.55762856,  145.47012604]),\n",
       " 9      72.0\n",
       " 11    230.7\n",
       " 0     287.0\n",
       " Name: EffortMM, dtype: float64)"
      ]
     },
     "execution_count": 34,
     "metadata": {},
     "output_type": "execute_result"
    }
   ],
   "source": [
    "y_predr=ridge.predict(x_test)\n",
    "y_predr,y_test"
   ]
  },
  {
   "cell_type": "code",
   "execution_count": 35,
   "id": "3f707df4",
   "metadata": {},
   "outputs": [
    {
     "name": "stdout",
     "output_type": "stream",
     "text": [
      "pred: 1.0\n",
      "r2 -2.8350533572646244\n",
      "maer: 159.23852715881148\n",
      "mser: 31779.97074500794\n",
      "rmser: 178.2693769131646\n"
     ]
    }
   ],
   "source": [
    "from sklearn import metrics\n",
    "from sklearn.metrics import r2_score\n",
    "print(\"pred:\",(np.abs(y_test - y_predr) <= 2 * (metrics.mean_absolute_error(y_test,y_predr))).mean())\n",
    "print(\"r2\",r2_score(y_test, y_predr, multioutput='variance_weighted'))\n",
    "print(\"maer:\",metrics.mean_absolute_error(y_test,y_predr))\n",
    "print(\"mser:\",metrics.mean_squared_error(y_test,y_predr))\n",
    "print(\"rmser:\",np.sqrt(metrics.mean_squared_error(y_test,y_predr)))"
   ]
  },
  {
   "cell_type": "code",
   "execution_count": 46,
   "id": "9ddc1938",
   "metadata": {},
   "outputs": [
    {
     "name": "stdout",
     "output_type": "stream",
     "text": [
      "PRED: 0.0%\n"
     ]
    }
   ],
   "source": [
    "# Calculate the absolute difference between predicted and actual values\n",
    "abs_diff = abs(y_test - y_predr)\n",
    "\n",
    "# Count the number of predictions within the threshold of 0.25\n",
    "within_threshold = abs_diff[abs_diff < 0.25].count()\n",
    "\n",
    "# Calculate the PRED metric\n",
    "PRED = (within_threshold / len(y_predr)) * 100\n",
    "\n",
    "print(f\"PRED: {PRED}%\")\n"
   ]
  },
  {
   "cell_type": "markdown",
   "id": "68ff78b8",
   "metadata": {},
   "source": [
    "# SVR"
   ]
  },
  {
   "cell_type": "code",
   "execution_count": 36,
   "id": "ab5078db",
   "metadata": {},
   "outputs": [
    {
     "data": {
      "text/plain": [
       "-4.110782085047033"
      ]
     },
     "execution_count": 36,
     "metadata": {},
     "output_type": "execute_result"
    }
   ],
   "source": [
    "from sklearn.svm import LinearSVR\n",
    "svr=LinearSVR(max_iter=1000)\n",
    "svr.fit(x_train,y_train)\n",
    "svr.score(x_test,y_test)"
   ]
  },
  {
   "cell_type": "code",
   "execution_count": 37,
   "id": "7e74e508",
   "metadata": {},
   "outputs": [
    {
     "data": {
      "text/plain": [
       "(array([12., 12., 12.]),\n",
       " 9      72.0\n",
       " 11    230.7\n",
       " 0     287.0\n",
       " Name: EffortMM, dtype: float64)"
      ]
     },
     "execution_count": 37,
     "metadata": {},
     "output_type": "execute_result"
    }
   ],
   "source": [
    "y_predsvr=svr.predict(x_test)\n",
    "y_predsvr,y_test"
   ]
  },
  {
   "cell_type": "code",
   "execution_count": 38,
   "id": "ac4d0d9e",
   "metadata": {},
   "outputs": [
    {
     "name": "stdout",
     "output_type": "stream",
     "text": [
      "pred: 1.0\n",
      "r2 -4.110782085047033\n",
      "maerf: 184.5666666666667\n",
      "mserf: 42351.56333333333\n",
      "rmserf: 205.79495458667915\n"
     ]
    }
   ],
   "source": [
    "from sklearn import metrics\n",
    "from sklearn.metrics import r2_score\n",
    "print(\"pred:\",(np.abs(y_test - y_predsvr) <= 2 * (metrics.mean_absolute_error(y_test,y_predsvr))).mean())\n",
    "print(\"r2\",r2_score(y_test, y_predsvr, multioutput='variance_weighted'))\n",
    "print(\"maerf:\",metrics.mean_absolute_error(y_test,y_predsvr))\n",
    "print(\"mserf:\",metrics.mean_squared_error(y_test,y_predsvr))\n",
    "print(\"rmserf:\",np.sqrt(metrics.mean_squared_error(y_test,y_predsvr)))"
   ]
  },
  {
   "cell_type": "code",
   "execution_count": 47,
   "id": "249c9a06",
   "metadata": {},
   "outputs": [
    {
     "name": "stdout",
     "output_type": "stream",
     "text": [
      "PRED: 0.0%\n"
     ]
    }
   ],
   "source": [
    "# Calculate the absolute difference between predicted and actual values\n",
    "abs_diff = abs(y_test - y_predsvr)\n",
    "\n",
    "# Count the number of predictions within the threshold of 0.25\n",
    "within_threshold = abs_diff[abs_diff < 0.25].count()\n",
    "\n",
    "# Calculate the PRED metric\n",
    "PRED = (within_threshold / len(y_predsvr)) * 100\n",
    "\n",
    "print(f\"PRED: {PRED}%\")\n"
   ]
  },
  {
   "cell_type": "code",
   "execution_count": null,
   "id": "1e0a83be",
   "metadata": {},
   "outputs": [],
   "source": []
  }
 ],
 "metadata": {
  "kernelspec": {
   "display_name": "Python 3 (ipykernel)",
   "language": "python",
   "name": "python3"
  },
  "language_info": {
   "codemirror_mode": {
    "name": "ipython",
    "version": 3
   },
   "file_extension": ".py",
   "mimetype": "text/x-python",
   "name": "python",
   "nbconvert_exporter": "python",
   "pygments_lexer": "ipython3",
   "version": "3.10.6"
  }
 },
 "nbformat": 4,
 "nbformat_minor": 5
}
